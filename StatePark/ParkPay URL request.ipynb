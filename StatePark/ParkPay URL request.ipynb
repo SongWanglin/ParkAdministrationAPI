{
 "cells": [
  {
   "cell_type": "code",
   "execution_count": null,
   "metadata": {},
   "outputs": [],
   "source": [
    "import requests"
   ]
  },
  {
   "cell_type": "code",
   "execution_count": null,
   "metadata": {},
   "outputs": [],
   "source": [
    "res = requests.get('http://localhost:8080/ParkAdmin/parkpay/parks')\n",
    "print(res.status_code)\n",
    "res.json()"
   ]
  },
  {
   "cell_type": "code",
   "execution_count": null,
   "metadata": {},
   "outputs": [],
   "source": [
    " body = {\n",
    "    \t\"location_info\": {\n",
    "    \t\t\"name\": \"Apple River Canyon\",\n",
    "        \"region\": \"Northwestern Illinois\",\n",
    "    \t\t\"address\": \"8763 E. Canyon Rd, Apple River, IL 61001\",\n",
    "    \t\t\"phone\": \"\",\n",
    "    \t\t\"web\": \"https://www.dnr.illinois.gov/Parks/Pages/AppleRiverCanyon.aspx\",\n",
    "    \t},\n",
    "    \t\"payment_info\": {\n",
    "    \t\t\"motorcycle\": [5, 8],\n",
    "    \t\t\"car\": [7, 9],\n",
    "    \t\t\"rv\": [10,13]\n",
    "    \t}\n",
    "    }\n",
    "\n",
    "res = requests.post('http://localhost:8080/ParkAdmin/parkpay/parks',json = body)\n",
    "print(res.status_code)\n",
    "res.json()"
   ]
  },
  {
   "cell_type": "code",
   "execution_count": null,
   "metadata": {},
   "outputs": [],
   "source": [
    " body = {\n",
    "  \"location_info\": {\n",
    "    \"name\": \"Apple River Canyon\",\n",
    "    \"region\": \"Northwestern Illinois\",\n",
    "    \"address\": \"8763 E. Canyon Rd, Apple River, IL 61001\",\n",
    "    \"phone\": \"815-745-3302\",\n",
    "    \"web\": \"https://www.dnr.illinois.gov/Parks/Pages/AppleRiverCanyon.aspx\",\n",
    "    \"geo\": {\n",
    "      \"lat\": 42.448,\n",
    "      \"lng\": -90.043\n",
    "    }\n",
    "  },\n",
    "  \"payment_info\": {\n",
    "    \"motorcycle\": [5, 8],\n",
    "    \"car\": [7, 9],\n",
    "    \"rv\": [10, 13]\n",
    "  }\n",
    "}\n",
    "\n",
    "\n",
    "res = requests.post('http://localhost:8080/ParkAdmin/parkpay/parks',json = body)\n",
    "print(res.status_code)\n",
    "res.json()"
   ]
  },
  {
   "cell_type": "code",
   "execution_count": null,
   "metadata": {},
   "outputs": [],
   "source": [
    "\n",
    "res = requests.get('http://localhost:8080/ParkAdmin/parkpay/parks/0')\n",
    "print(res.status_code)\n",
    "res.json()"
   ]
  },
  {
   "cell_type": "code",
   "execution_count": null,
   "metadata": {},
   "outputs": [],
   "source": [
    "body = {\n",
    "  \"location_info\": {\n",
    "    \"name\": \"Apple River Canyon\",\n",
    "    \"region\": \"Northwestern Illinois\",\n",
    "    \"address\": \"8763 E. Canyon Rd, Apple River, IL 61001\",\n",
    "    \"phone\": \"815-745-3302\",\n",
    "    \"web\": \"https://www.dnr.illinois.gov/Parks/Pages/AppleRiverCanyon.aspx\",\n",
    "    \"geo\": {\n",
    "      \"lat\": 42.448,\n",
    "      \"lng\": -90.043\n",
    "    }\n",
    "  },\n",
    "  \"payment_info\": {\n",
    "    \"motorcycle\": [5, 8],\n",
    "    \"car\": [7, 10],\n",
    "    \"rv\": [10, 13]\n",
    "  }\n",
    "}\n",
    "\n",
    "res = requests.put('http://localhost:8080/ParkAdmin/parkpay/parks/0',json = body)\n",
    "print(res.status_code)"
   ]
  },
  {
   "cell_type": "code",
   "execution_count": null,
   "metadata": {},
   "outputs": [],
   "source": [
    " body = {\n",
    "  \"location_info\": {\n",
    "    \"name\": \"Mermet Lake\",\n",
    "    \"region\": \"Southern Illinois\",\n",
    "    \"address\": \"1812 Grinnell Road, Belknap, IL 62908\",\n",
    "    \"phone\": \"618-524-5577\",\n",
    "    \"web\": \"https://www.dnr.illinois.gov/Parks/Pages/MermetLake.aspx\",\n",
    "    \"geo\": { \n",
    "      \"lat\": 37.275,\n",
    "      \"lng\": -88.849\n",
    "    }\n",
    "  },\n",
    "  \"payment_info\": {\n",
    "    \"motorcycle\": [4, 5],\n",
    "    \"car\": [6.75, 9],\n",
    "    \"rv\": [10.75, 15]\n",
    "  }\n",
    "}\n",
    "\n",
    "res = requests.post('http://localhost:8080/ParkAdmin/parkpay/parks',json = body)\n",
    "print(res.status_code)\n",
    "res.json()"
   ]
  },
  {
   "cell_type": "code",
   "execution_count": null,
   "metadata": {},
   "outputs": [],
   "source": [
    " body = {\n",
    "\t\"location_info\": {\n",
    "\t\t\"name\": \"Castle Rock\",\n",
    "\t\t\"region\": \"Northwestern Illinois\",\n",
    "\t\t\"address\": \"1365 W. Castle Rd, Oregon IL 61061\",\n",
    "\t\t\"phone\": \"815-732-7329\",\n",
    "\t\t\"web\": \"https://www.dnr.illinois.gov/Parks/Pages/CastleRock.aspx\",\n",
    "\t\t\"geo\": {\n",
    "\t\t\t\"lat\": 41.978,\n",
    "\t\t\t\"lng\": -89.364\n",
    "\t\t}\n",
    "\t},\n",
    "\t\"payment_info\": {\n",
    "\t\t\"motorcycle\": [2, 3],\n",
    "\t\t\"car\": [4.50, 7],\n",
    "\t\t\"rv\": [7, 9.25]\n",
    "\t}\n",
    "}\n",
    "\n",
    "\n",
    "res = requests.post('http://localhost:8080/ParkAdmin/parkpay/parks',json = body)\n",
    "print(res.status_code)\n",
    "res.json()"
   ]
  },
  {
   "cell_type": "code",
   "execution_count": null,
   "metadata": {},
   "outputs": [],
   "source": [
    "res = requests.get('http://localhost:8080/ParkAdmin/parkpay/parks')\n",
    "print(res.status_code)\n",
    "res.json()"
   ]
  },
  {
   "cell_type": "code",
   "execution_count": null,
   "metadata": {},
   "outputs": [],
   "source": [
    "res = requests.get('http://localhost:8080/ParkAdmin/parkpay/parks?key=south')\n",
    "print(res.status_code)\n",
    "res.json()"
   ]
  },
  {
   "cell_type": "code",
   "execution_count": null,
   "metadata": {},
   "outputs": [],
   "source": [
    "res = requests.delete('http://localhost:8080/ParkAdmin/parkpay/parks/1')\n",
    "print(res.status_code)"
   ]
  },
  {
   "cell_type": "code",
   "execution_count": null,
   "metadata": {},
   "outputs": [],
   "source": [
    "res = requests.delete('http://localhost:8080/ParkAdmin/parkpay/parks/1')\n",
    "print(res.status_code)"
   ]
  },
  {
   "cell_type": "code",
   "execution_count": null,
   "metadata": {},
   "outputs": [],
   "source": [
    "res = requests.get('http://localhost:8080/ParkAdmin/parkpay/parks?key=')\n",
    "print(res.status_code)\n",
    "res.json()"
   ]
  },
  {
   "cell_type": "code",
   "execution_count": null,
   "metadata": {},
   "outputs": [],
   "source": [
    "body = {\n",
    "  \"pid\": \"2\",\n",
    "  \"vehicle\": {\n",
    "    \"state\": \"IL\",\n",
    "    \"plate\": \"GOCUBS\",\n",
    "    \"type\": \"car\"\n",
    "  },\n",
    "  \"visitor\": {\n",
    "    \"name\": \"John Doe\",\n",
    "    \"email\": \"john.doe@example.com\",\n",
    "    \"payment_info\": {\n",
    "      \"card\": \"4366188462929031\",\n",
    "      \"name_on_card\": \"John Doe\",\n",
    "      \"expiration_date\": \"12/19\",\n",
    "      \"zip\": 60616\n",
    "    }\n",
    "  }\n",
    "}\n",
    "\n",
    "\n",
    "res = requests.post('http://localhost:8080/ParkAdmin/parkpay/orders',json = body)\n",
    "print(res.status_code)\n",
    "res.json()"
   ]
  },
  {
   "cell_type": "code",
   "execution_count": null,
   "metadata": {},
   "outputs": [],
   "source": [
    "res = requests.get('http://localhost:8080/ParkAdmin/parkpay/orders')\n",
    "print(res.status_code)\n",
    "res.json()"
   ]
  },
  {
   "cell_type": "code",
   "execution_count": null,
   "metadata": {},
   "outputs": [],
   "source": [
    "res = requests.get('http://localhost:8080/ParkAdmin/parkpay/visitors')\n",
    "print(res.status_code)\n",
    "res.json()"
   ]
  },
  {
   "cell_type": "code",
   "execution_count": null,
   "metadata": {},
   "outputs": [],
   "source": [
    "res = requests.get('http://localhost:8080/ParkAdmin/parkpay/visitors/0')\n",
    "print(res.status_code)\n",
    "res.json()"
   ]
  },
  {
   "cell_type": "code",
   "execution_count": null,
   "metadata": {},
   "outputs": [],
   "source": [
    " body = {\n",
    "  \"vid\": \"0\",\n",
    "  \"title\": \"No campground\",\n",
    "  \"text\": \"This place is beautiful, too bad that there is no campground here.\"\n",
    "}\n",
    "res = requests.post('http://localhost:8080/ParkAdmin/parkpay/parks/0/notes',json = body)\n",
    "print(res.status_code)\n",
    "res.json()"
   ]
  },
  {
   "cell_type": "code",
   "execution_count": null,
   "metadata": {},
   "outputs": [],
   "source": [
    " body = {\n",
    "  \"vid\": \"0\",\n",
    "  \"title\": \"No campground\",\n",
    "  \"text\": \"This place is beautiful, too bad that there is no campground here.\"\n",
    "}\n",
    "res = requests.post('http://localhost:8080/ParkAdmin/parkpay/parks/2/notes',json = body)\n",
    "print(res.status_code)\n",
    "res.json()"
   ]
  },
  {
   "cell_type": "code",
   "execution_count": null,
   "metadata": {},
   "outputs": [],
   "source": [
    "res = requests.get('http://localhost:8080/ParkAdmin/parkpay/visitors/0')\n",
    "print(res.status_code)\n",
    "res.json()"
   ]
  },
  {
   "cell_type": "code",
   "execution_count": null,
   "metadata": {},
   "outputs": [],
   "source": [
    "res = requests.get('http://localhost:8080/ParkAdmin/parkpay/notes/0')\n",
    "print(res.status_code)\n",
    "res.json()"
   ]
  },
  {
   "cell_type": "code",
   "execution_count": null,
   "metadata": {},
   "outputs": [],
   "source": [
    "body = {\n",
    "  \"pid\": \"2\",\n",
    "  \"vehicle\": {\n",
    "    \"state\": \"CA\",\n",
    "    \"plate\": \"60MPG\",\n",
    "    \"type\": \"rv\"\n",
    "  },\n",
    "  \"visitor\": {\n",
    "    \"name\": \"\",\n",
    "    \"email\": \"jane.smith@example.com\",\n",
    "    \"payment_info\": {\n",
    "      \"card\": \"373456789045678\",\n",
    "      \"name_on_card\": \"Jane Smith\",\n",
    "      \"expiration_date\": \"05/23\",\n",
    "      \"zip\": 94102\n",
    "    }\n",
    "  }\n",
    "}\n",
    "\n",
    "\n",
    "res = requests.post('http://localhost:8080/ParkAdmin/parkpay/orders',json = body)\n",
    "print(res.status_code)\n",
    "res.json()"
   ]
  },
  {
   "cell_type": "code",
   "execution_count": null,
   "metadata": {},
   "outputs": [],
   "source": [
    "body = {\n",
    "  \"pid\": \"0\",\n",
    "  \"vehicle\": {\n",
    "    \"state\": \"CA\",\n",
    "    \"plate\": \"60MPG\",\n",
    "    \"type\": \"rv\"\n",
    "  },\n",
    "  \"visitor\": {\n",
    "    \"name\": \"\",\n",
    "    \"email\": \"jane.smith@example.com\",\n",
    "    \"payment_info\": {\n",
    "      \"card\": \"373456789045678\",\n",
    "      \"name_on_card\": \"Jane Smith\",\n",
    "      \"expiration_date\": \"05/23\",\n",
    "      \"zip\": 94102\n",
    "    }\n",
    "  }\n",
    "}\n",
    "res = requests.post('http://localhost:8080/ParkAdmin/parkpay/orders',json = body)\n",
    "print(res.status_code)\n",
    "res.json()"
   ]
  },
  {
   "cell_type": "code",
   "execution_count": null,
   "metadata": {},
   "outputs": [],
   "source": [
    "res = requests.get('http://localhost:8080/ParkAdmin/parkpay/visitors')\n",
    "print(res.status_code)\n",
    "res.json()"
   ]
  },
  {
   "cell_type": "code",
   "execution_count": null,
   "metadata": {},
   "outputs": [],
   "source": [
    " body = {\n",
    "  \"vid\": \"0\",\n",
    "  \"title\": \"No campground\",\n",
    "  \"text\": \"This place is beautiful, too bad that there is no campground here.\"\n",
    "}\n",
    "res = requests.post('http://localhost:8080/ParkAdmin/parkpay/parks/2/notes',json = body)\n",
    "print(res.status_code)\n",
    "res.json()"
   ]
  },
  {
   "cell_type": "code",
   "execution_count": null,
   "metadata": {},
   "outputs": [],
   "source": [
    "res = requests.get('http://localhost:8080/ParkAdmin/parkpay/parks/2/notes')\n",
    "print(res.status_code)\n",
    "res.json()"
   ]
  },
  {
   "cell_type": "code",
   "execution_count": null,
   "metadata": {},
   "outputs": [],
   "source": [
    "res = requests.get('http://localhost:8080/ParkAdmin/parkpay/parks/2/notes/1')\n",
    "print(res.status_code)\n",
    "res.json()"
   ]
  },
  {
   "cell_type": "code",
   "execution_count": null,
   "metadata": {},
   "outputs": [],
   "source": [
    "res = requests.get('http://localhost:8080/ParkAdmin/parkpay/orders')\n",
    "print(res.status_code)\n",
    "res.json()"
   ]
  },
  {
   "cell_type": "code",
   "execution_count": null,
   "metadata": {},
   "outputs": [],
   "source": [
    "res = requests.get('http://localhost:8080/ParkAdmin/parkpay/orders/1')\n",
    "print(res.status_code)\n",
    "res.json()"
   ]
  },
  {
   "cell_type": "code",
   "execution_count": null,
   "metadata": {},
   "outputs": [],
   "source": [
    "res = requests.get('http://localhost:8080/ParkAdmin/parkpay/orders?key=60MPG')\n",
    "print(res.status_code)\n",
    "res.json()"
   ]
  },
  {
   "cell_type": "code",
   "execution_count": null,
   "metadata": {},
   "outputs": [],
   "source": [
    "res = requests.get('http://localhost:8080/ParkAdmin/parkpay/visitors?key=john')\n",
    "print(res.status_code)\n",
    "res.json()"
   ]
  },
  {
   "cell_type": "code",
   "execution_count": null,
   "metadata": {},
   "outputs": [],
   "source": [
    "res = requests.get('http://localhost:8080/ParkAdmin/parkpay/reports')\n",
    "print(res.status_code)\n",
    "res.json()"
   ]
  },
  {
   "cell_type": "code",
   "execution_count": null,
   "metadata": {},
   "outputs": [],
   "source": [
    "res = requests.get('http://localhost:8080/ParkAdmin/parkpay/reports/907')\n",
    "print(res.status_code)\n",
    "res.json()"
   ]
  },
  {
   "cell_type": "code",
   "execution_count": null,
   "metadata": {},
   "outputs": [],
   "source": [
    "res = requests.get('http://localhost:8080/ParkAdmin/parkpay/reports/907?end_date=20171231')\n",
    "print(res.status_code)\n",
    "res.json()"
   ]
  },
  {
   "cell_type": "code",
   "execution_count": null,
   "metadata": {},
   "outputs": [],
   "source": [
    "res = requests.get('http://localhost:8080/ParkAdmin/parkpay/reports/911')\n",
    "print(res.status_code)\n",
    "res.json()"
   ]
  },
  {
   "cell_type": "code",
   "execution_count": null,
   "metadata": {},
   "outputs": [],
   "source": [
    "res = requests.get('http://localhost:8080/ParkAdmin/parkpay/reports/911?end_date=20181199')\n",
    "print(res.status_code)\n",
    "res.json()"
   ]
  },
  {
   "cell_type": "code",
   "execution_count": null,
   "metadata": {},
   "outputs": [],
   "source": [
    "body = {\n",
    "  \"pid\": \"2\",\n",
    "  \"vehicle\": {\n",
    "    \"state\": \"IL\",\n",
    "    \"plate\": \"GOCUBS\",\n",
    "    \"type\": \"car\"\n",
    "  },\n",
    "  \"visitor\": {\n",
    "    \"name\": \"John Doe\",\n",
    "    \"email\": \"john.doe@example.com\",\n",
    "    \"payment_info\": {\n",
    "      \"card\": \" 3539618434812650\",\n",
    "      \"name_on_card\": \"John Doe\",\n",
    "      \"expiration_date\": \"12/19\",\n",
    "      \"zip\": 60616\n",
    "    }\n",
    "  }\n",
    "}\n",
    "\n",
    "\n",
    "res = requests.post('http://localhost:8080/ParkAdmin/parkpay/orders',json = body)\n",
    "print(res.status_code)\n",
    "res.json()"
   ]
  },
  {
   "cell_type": "code",
   "execution_count": null,
   "metadata": {},
   "outputs": [],
   "source": [
    " body = {\n",
    "  \"location_info\": {\n",
    "    \"name\": \"Apple River Canyon\",\n",
    "    \"region\": \"Northwestern Illinois\",\n",
    "    \"address\": \"                                \",\n",
    "    \"phone\": \"815-745-3302\",\n",
    "    \"web\": \"                                     \",\n",
    "    \"geo\": {\n",
    "      \"lat\": 42.448,\n",
    "      \"lng\": -90.043\n",
    "    }\n",
    "  },\n",
    "  \"payment_info\": {\n",
    "    \"motorcycle\": [5, 8],\n",
    "    \"car\": [7, 9],\n",
    "    \"rv\": [10, 13]\n",
    "  }\n",
    "}\n",
    "\n",
    "\n",
    "res = requests.post('http://localhost:8080/ParkAdmin/parkpay/parks',json = body)\n",
    "print(res.status_code)\n",
    "res.json()"
   ]
  },
  {
   "cell_type": "code",
   "execution_count": null,
   "metadata": {},
   "outputs": [],
   "source": [
    "res = requests.get('http://localhost:8080/ParkAdmin/parkpay/notes',json = body)\n",
    "print(res.status_code)\n",
    "res.json()"
   ]
  },
  {
   "cell_type": "code",
   "execution_count": null,
   "metadata": {},
   "outputs": [],
   "source": [
    "res = requests.delete('http://localhost:8080/ParkAdmin/parkpay/notes/1',json = body)\n",
    "print(res.status_code)"
   ]
  },
  {
   "cell_type": "code",
   "execution_count": null,
   "metadata": {},
   "outputs": [],
   "source": [
    "res = requests.delete('http://localhost:8080/ParkAdmin/parkpay/notes/1',json = body)\n",
    "print(res.status_code)"
   ]
  },
  {
   "cell_type": "code",
   "execution_count": null,
   "metadata": {},
   "outputs": [],
   "source": [
    "res = requests.get('http://localhost:8080/ParkAdmin/parkpay/notes',json = body)\n",
    "print(res.status_code)\n",
    "res.json()"
   ]
  },
  {
   "cell_type": "code",
   "execution_count": null,
   "metadata": {},
   "outputs": [],
   "source": [
    "res = requests.get('http://localhost:8080/ParkAdmin/parkpay/parks')\n",
    "print(res.status_code)\n",
    "res.json()"
   ]
  },
  {
   "cell_type": "code",
   "execution_count": null,
   "metadata": {},
   "outputs": [],
   "source": [
    "res = requests.delete('http://localhost:8080/ParkAdmin/parkpay/parks/0')\n",
    "print(res.status_code)"
   ]
  },
  {
   "cell_type": "code",
   "execution_count": null,
   "metadata": {},
   "outputs": [],
   "source": [
    "res = requests.delete('http://localhost:8080/ParkAdmin/parkpay/parks/2')\n",
    "print(res.status_code)"
   ]
  },
  {
   "cell_type": "code",
   "execution_count": null,
   "metadata": {},
   "outputs": [],
   "source": [
    "res = requests.get('http://localhost:8080/ParkAdmin/parkpay/parks')\n",
    "print(res.status_code)\n",
    "res.json()"
   ]
  },
  {
   "cell_type": "code",
   "execution_count": null,
   "metadata": {},
   "outputs": [],
   "source": [
    "res = requests.get('http://localhost:8080/ParkAdmin/parkpay/visitors')\n",
    "print(res.status_code)\n",
    "res.json()"
   ]
  },
  {
   "cell_type": "code",
   "execution_count": null,
   "metadata": {},
   "outputs": [],
   "source": [
    "res = requests.get('http://localhost:8080/ParkAdmin/parkpay/orders')\n",
    "print(res.status_code)\n",
    "res.json()"
   ]
  },
  {
   "cell_type": "code",
   "execution_count": null,
   "metadata": {},
   "outputs": [],
   "source": [
    "res = requests.get('http://localhost:8080/ParkAdmin/parkpay/notes')\n",
    "print(res.status_code)\n",
    "res.json()"
   ]
  },
  {
   "cell_type": "code",
   "execution_count": null,
   "metadata": {},
   "outputs": [],
   "source": []
  },
  {
   "cell_type": "code",
   "execution_count": null,
   "metadata": {},
   "outputs": [],
   "source": []
  },
  {
   "cell_type": "code",
   "execution_count": null,
   "metadata": {},
   "outputs": [],
   "source": [
    " body = {\n",
    "  \"location_info\": {\n",
    "    \"name\": \"Apple River Canyon\",\n",
    "    \"region\": \"Northwestern Illinois\",\n",
    "    \"address\": \"8763 E. Canyon Rd, Apple River, IL 61001\",\n",
    "    \"phone\": \"815-745-3302\",\n",
    "    \"web\": \"https://www.dnr.illinois.gov/Parks/Pages/AppleRiverCanyon.aspx\",\n",
    "    \"geo\": {\n",
    "      \"lat\": 42.448,\n",
    "      \"lng\": -90.043\n",
    "    }\n",
    "  },\n",
    "  \"payment_info\": {\n",
    "    \"motorcycle\": [5, 8],\n",
    "    \"car\": [7, 9],\n",
    "    \"rv\": [10, 13]\n",
    "  }\n",
    "}\n",
    "\n",
    "\n",
    "res = requests.post('http://localhost:8080/ParkAdmin/parkpay/parks',json = body)\n",
    "print(res.status_code)\n",
    "res.json()"
   ]
  },
  {
   "cell_type": "code",
   "execution_count": null,
   "metadata": {},
   "outputs": [],
   "source": [
    "body = {\n",
    "  \"pid\": \"3\",\n",
    "  \"vehicle\": {\n",
    "    \"state\": \"IL\",\n",
    "    \"plate\": \"GOCUBS\",\n",
    "    \"type\": \"car\"\n",
    "  },\n",
    "  \"visitor\": {\n",
    "    \"name\": \"John Doe\",\n",
    "    \"email\": \"john.doe@example.com\",\n",
    "    \"payment_info\": {\n",
    "      \"card\": \"4556037981631635\",\n",
    "      \"name_on_card\": \"John Doe\",\n",
    "      \"expiration_date\": \"12/16\",\n",
    "      \"zip\": 60616\n",
    "    }\n",
    "  }\n",
    "}\n",
    "\n",
    "\n",
    "res = requests.post('http://localhost:8080/ParkAdmin/parkpay/orders',json = body)\n",
    "print(res.status_code)\n",
    "res.json()"
   ]
  },
  {
   "cell_type": "code",
   "execution_count": null,
   "metadata": {},
   "outputs": [],
   "source": []
  },
  {
   "cell_type": "code",
   "execution_count": null,
   "metadata": {},
   "outputs": [],
   "source": []
  },
  {
   "cell_type": "code",
   "execution_count": null,
   "metadata": {},
   "outputs": [],
   "source": []
  },
  {
   "cell_type": "code",
   "execution_count": null,
   "metadata": {},
   "outputs": [],
   "source": []
  }
 ],
 "metadata": {
  "kernelspec": {
   "display_name": "Python 3",
   "language": "python",
   "name": "python3"
  },
  "language_info": {
   "codemirror_mode": {
    "name": "ipython",
    "version": 3
   },
   "file_extension": ".py",
   "mimetype": "text/x-python",
   "name": "python",
   "nbconvert_exporter": "python",
   "pygments_lexer": "ipython3",
   "version": "3.5.2"
  }
 },
 "nbformat": 4,
 "nbformat_minor": 2
}
